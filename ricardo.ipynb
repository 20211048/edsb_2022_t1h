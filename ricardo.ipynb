{
 "cells": [
  {
   "cell_type": "markdown",
   "metadata": {},
   "source": [
    "# NOVA IMS | Enterprise Data Science Bootcamp"
   ]
  },
  {
   "cell_type": "markdown",
   "metadata": {},
   "source": [
    "The customer we are working with, is a multi-national company that works on the health sector. <br>\n",
    "\n",
    "They want to predict what products their customers shall need the most, based on their past purchases but also on other variables that could be interesting <br>\n",
    "\n",
    "The dataset consists in two different files: <br>\n",
    "- __stock.csv:__ transactional information about sales of products.\n",
    "    - _country_code – Code of the country\n",
    "    - _cac – customer \n",
    "    - _product_code – product sold\n",
    "    - _month_code – year and month of the sale\n",
    "    - _currency_code - currency\n",
    "    - _invoiced_sales - sales\n",
    "    - _volume_primary_units – number of sold units \n",
    "    - _inventory_cost – cost of the product for the company (unitary cost multiplied by volume)  \n",
    "\n",
    " <br>\n",
    "- __product_master.csv:__ To complement the file above with more details about the product. \n",
    "    - _bravo_ww_fran_name – company designation for the global group\n",
    "    - _bravo_fran_name – company designation for a region of the group\n",
    "    - _bravo_sub_fran_name – company area\n",
    "    - _bravo_major_name – product family\n",
    "    - _bravo_minor_name – product sub-family\n",
    "    - _product_code – product code\n",
    "\n",
    "\n"
   ]
  },
  {
   "attachments": {},
   "cell_type": "markdown",
   "metadata": {},
   "source": [
    "## 1. Transactional information about sales of products\n",
    "Explore main research questions about stock.csv data"
   ]
  },
  {
   "attachments": {},
   "cell_type": "markdown",
   "metadata": {},
   "source": [
    "Research Questions: <br>\n",
    "\n",
    "- Existe uma relação entre top o __product_code__ (count of __volume_primary_units__) vendidos por __country_code__ ?\n",
    "- Que __country_code__ tem mais __volume_primary_units__ por __country_Population__ (external) ?\n",
    "- Podemos separar __cac__ por  __product_code__ e por __invoiced_sales__ ? (clusters)\n",
    "- Existe __product_code__ mais vendidos dependendo do o __month_code__ \n",
    "- Existe uma relação entre top o __invoiced_sales__  por __country_code__ ?\n",
    "- Que __country_code__ tem mais consumo por __country_Population__ (external) ?\n",
    "- Existe relação entre __invoiced_sales__ dependendo do o __month_code__ ?\n",
    "- New Feature: __Profit__ : invoiced_sales - inventory_cost\n"
   ]
  },
  {
   "cell_type": "markdown",
   "metadata": {},
   "source": [
    "__Step 0:__ Import stock.csv data"
   ]
  },
  {
   "cell_type": "code",
   "execution_count": 1,
   "metadata": {},
   "outputs": [
    {
     "name": "stderr",
     "output_type": "stream",
     "text": [
      "C:\\Users\\Ricar\\anaconda3\\lib\\site-packages\\IPython\\core\\interactiveshell.py:3444: DtypeWarning: Columns (5) have mixed types.Specify dtype option on import or set low_memory=False.\n",
      "  exec(code_obj, self.user_global_ns, self.user_ns)\n"
     ]
    },
    {
     "data": {
      "text/html": [
       "<div>\n",
       "<style scoped>\n",
       "    .dataframe tbody tr th:only-of-type {\n",
       "        vertical-align: middle;\n",
       "    }\n",
       "\n",
       "    .dataframe tbody tr th {\n",
       "        vertical-align: top;\n",
       "    }\n",
       "\n",
       "    .dataframe thead th {\n",
       "        text-align: right;\n",
       "    }\n",
       "</style>\n",
       "<table border=\"1\" class=\"dataframe\">\n",
       "  <thead>\n",
       "    <tr style=\"text-align: right;\">\n",
       "      <th></th>\n",
       "      <th>country_code</th>\n",
       "      <th>cac</th>\n",
       "      <th>product_code</th>\n",
       "      <th>month_code</th>\n",
       "      <th>invoiced_sales</th>\n",
       "      <th>volume_primary_units</th>\n",
       "      <th>inventory_cost</th>\n",
       "    </tr>\n",
       "  </thead>\n",
       "  <tbody>\n",
       "    <tr>\n",
       "      <th>0</th>\n",
       "      <td>country_code_0</td>\n",
       "      <td>cac_0</td>\n",
       "      <td>product_code_0</td>\n",
       "      <td>190001.0</td>\n",
       "      <td>0.0</td>\n",
       "      <td>0.0</td>\n",
       "      <td>0.0</td>\n",
       "    </tr>\n",
       "    <tr>\n",
       "      <th>1</th>\n",
       "      <td>country_code_0</td>\n",
       "      <td>cac_0</td>\n",
       "      <td>product_code_1</td>\n",
       "      <td>190001.0</td>\n",
       "      <td>0.0</td>\n",
       "      <td>0.0</td>\n",
       "      <td>0.0</td>\n",
       "    </tr>\n",
       "    <tr>\n",
       "      <th>2</th>\n",
       "      <td>country_code_0</td>\n",
       "      <td>cac_0</td>\n",
       "      <td>product_code_2</td>\n",
       "      <td>190001.0</td>\n",
       "      <td>0.0</td>\n",
       "      <td>0.0</td>\n",
       "      <td>0.0</td>\n",
       "    </tr>\n",
       "    <tr>\n",
       "      <th>3</th>\n",
       "      <td>country_code_0</td>\n",
       "      <td>cac_0</td>\n",
       "      <td>product_code_3</td>\n",
       "      <td>190001.0</td>\n",
       "      <td>0.0</td>\n",
       "      <td>0.0</td>\n",
       "      <td>0.0</td>\n",
       "    </tr>\n",
       "    <tr>\n",
       "      <th>4</th>\n",
       "      <td>country_code_0</td>\n",
       "      <td>cac_0</td>\n",
       "      <td>product_code_4</td>\n",
       "      <td>190001.0</td>\n",
       "      <td>0.0</td>\n",
       "      <td>0.0</td>\n",
       "      <td>0.0</td>\n",
       "    </tr>\n",
       "  </tbody>\n",
       "</table>\n",
       "</div>"
      ],
      "text/plain": [
       "     country_code    cac    product_code month_code  invoiced_sales  \\\n",
       "0  country_code_0  cac_0  product_code_0   190001.0             0.0   \n",
       "1  country_code_0  cac_0  product_code_1   190001.0             0.0   \n",
       "2  country_code_0  cac_0  product_code_2   190001.0             0.0   \n",
       "3  country_code_0  cac_0  product_code_3   190001.0             0.0   \n",
       "4  country_code_0  cac_0  product_code_4   190001.0             0.0   \n",
       "\n",
       "  volume_primary_units  inventory_cost  \n",
       "0                  0.0             0.0  \n",
       "1                  0.0             0.0  \n",
       "2                  0.0             0.0  \n",
       "3                  0.0             0.0  \n",
       "4                  0.0             0.0  "
      ]
     },
     "execution_count": 1,
     "metadata": {},
     "output_type": "execute_result"
    }
   ],
   "source": [
    "import pandas as pd\n",
    "\n",
    "df = pd.read_csv (r'C:\\Users\\Ricar\\OneDrive\\Desktop\\IMS_Bootcamp2022\\stock.csv',decimal=',')\n",
    "df.head(5)"
   ]
  },
  {
   "cell_type": "code",
   "execution_count": 2,
   "metadata": {},
   "outputs": [
    {
     "name": "stdout",
     "output_type": "stream",
     "text": [
      "<class 'pandas.core.frame.DataFrame'>\n",
      "RangeIndex: 5199686 entries, 0 to 5199685\n",
      "Data columns (total 7 columns):\n",
      " #   Column                Dtype  \n",
      "---  ------                -----  \n",
      " 0   country_code          object \n",
      " 1   cac                   object \n",
      " 2   product_code          object \n",
      " 3   month_code            object \n",
      " 4   invoiced_sales        float64\n",
      " 5   volume_primary_units  object \n",
      " 6   inventory_cost        float64\n",
      "dtypes: float64(2), object(5)\n",
      "memory usage: 277.7+ MB\n"
     ]
    }
   ],
   "source": [
    "df.info()"
   ]
  },
  {
   "cell_type": "code",
   "execution_count": 3,
   "metadata": {},
   "outputs": [],
   "source": [
    "df['volume_primary_units']=df['volume_primary_units'].str.replace(',', '.').astype(float)\n"
   ]
  },
  {
   "cell_type": "code",
   "execution_count": 4,
   "metadata": {},
   "outputs": [
    {
     "data": {
      "text/html": [
       "<div>\n",
       "<style scoped>\n",
       "    .dataframe tbody tr th:only-of-type {\n",
       "        vertical-align: middle;\n",
       "    }\n",
       "\n",
       "    .dataframe tbody tr th {\n",
       "        vertical-align: top;\n",
       "    }\n",
       "\n",
       "    .dataframe thead th {\n",
       "        text-align: right;\n",
       "    }\n",
       "</style>\n",
       "<table border=\"1\" class=\"dataframe\">\n",
       "  <thead>\n",
       "    <tr style=\"text-align: right;\">\n",
       "      <th></th>\n",
       "      <th>country_code</th>\n",
       "      <th>cac</th>\n",
       "      <th>product_code</th>\n",
       "      <th>month_code</th>\n",
       "      <th>invoiced_sales</th>\n",
       "      <th>volume_primary_units</th>\n",
       "      <th>inventory_cost</th>\n",
       "      <th>Year</th>\n",
       "      <th>Month</th>\n",
       "    </tr>\n",
       "  </thead>\n",
       "  <tbody>\n",
       "    <tr>\n",
       "      <th>0</th>\n",
       "      <td>country_code_0</td>\n",
       "      <td>cac_0</td>\n",
       "      <td>product_code_0</td>\n",
       "      <td>190001.0</td>\n",
       "      <td>0.0</td>\n",
       "      <td>NaN</td>\n",
       "      <td>0.0</td>\n",
       "      <td>1900</td>\n",
       "      <td>1</td>\n",
       "    </tr>\n",
       "    <tr>\n",
       "      <th>1</th>\n",
       "      <td>country_code_0</td>\n",
       "      <td>cac_0</td>\n",
       "      <td>product_code_1</td>\n",
       "      <td>190001.0</td>\n",
       "      <td>0.0</td>\n",
       "      <td>NaN</td>\n",
       "      <td>0.0</td>\n",
       "      <td>1900</td>\n",
       "      <td>1</td>\n",
       "    </tr>\n",
       "    <tr>\n",
       "      <th>2</th>\n",
       "      <td>country_code_0</td>\n",
       "      <td>cac_0</td>\n",
       "      <td>product_code_2</td>\n",
       "      <td>190001.0</td>\n",
       "      <td>0.0</td>\n",
       "      <td>NaN</td>\n",
       "      <td>0.0</td>\n",
       "      <td>1900</td>\n",
       "      <td>1</td>\n",
       "    </tr>\n",
       "    <tr>\n",
       "      <th>3</th>\n",
       "      <td>country_code_0</td>\n",
       "      <td>cac_0</td>\n",
       "      <td>product_code_3</td>\n",
       "      <td>190001.0</td>\n",
       "      <td>0.0</td>\n",
       "      <td>NaN</td>\n",
       "      <td>0.0</td>\n",
       "      <td>1900</td>\n",
       "      <td>1</td>\n",
       "    </tr>\n",
       "    <tr>\n",
       "      <th>4</th>\n",
       "      <td>country_code_0</td>\n",
       "      <td>cac_0</td>\n",
       "      <td>product_code_4</td>\n",
       "      <td>190001.0</td>\n",
       "      <td>0.0</td>\n",
       "      <td>NaN</td>\n",
       "      <td>0.0</td>\n",
       "      <td>1900</td>\n",
       "      <td>1</td>\n",
       "    </tr>\n",
       "  </tbody>\n",
       "</table>\n",
       "</div>"
      ],
      "text/plain": [
       "     country_code    cac    product_code month_code  invoiced_sales  \\\n",
       "0  country_code_0  cac_0  product_code_0   190001.0             0.0   \n",
       "1  country_code_0  cac_0  product_code_1   190001.0             0.0   \n",
       "2  country_code_0  cac_0  product_code_2   190001.0             0.0   \n",
       "3  country_code_0  cac_0  product_code_3   190001.0             0.0   \n",
       "4  country_code_0  cac_0  product_code_4   190001.0             0.0   \n",
       "\n",
       "   volume_primary_units  inventory_cost  Year  Month  \n",
       "0                   NaN             0.0  1900      1  \n",
       "1                   NaN             0.0  1900      1  \n",
       "2                   NaN             0.0  1900      1  \n",
       "3                   NaN             0.0  1900      1  \n",
       "4                   NaN             0.0  1900      1  "
      ]
     },
     "execution_count": 4,
     "metadata": {},
     "output_type": "execute_result"
    }
   ],
   "source": [
    "df['month_code'].fillna(\"190001.0\", inplace = True)\n",
    "#df['month_code']=df['month_code'].replace('.0', '')\n",
    "df['Year']=df['month_code'].str.slice(stop=4).astype(int)\n",
    "df['Month']=df['month_code'].str.slice(start=4).astype(float).astype(int)\n",
    "df.head(5)"
   ]
  },
  {
   "cell_type": "code",
   "execution_count": 5,
   "metadata": {},
   "outputs": [
    {
     "name": "stdout",
     "output_type": "stream",
     "text": [
      "<class 'pandas.core.frame.DataFrame'>\n",
      "RangeIndex: 5199686 entries, 0 to 5199685\n",
      "Data columns (total 9 columns):\n",
      " #   Column                Dtype  \n",
      "---  ------                -----  \n",
      " 0   country_code          object \n",
      " 1   cac                   object \n",
      " 2   product_code          object \n",
      " 3   month_code            object \n",
      " 4   invoiced_sales        float64\n",
      " 5   volume_primary_units  float64\n",
      " 6   inventory_cost        float64\n",
      " 7   Year                  int32  \n",
      " 8   Month                 int32  \n",
      "dtypes: float64(3), int32(2), object(4)\n",
      "memory usage: 317.4+ MB\n"
     ]
    }
   ],
   "source": [
    "df.info()"
   ]
  },
  {
   "cell_type": "code",
   "execution_count": 6,
   "metadata": {},
   "outputs": [
    {
     "data": {
      "text/html": [
       "<div>\n",
       "<style scoped>\n",
       "    .dataframe tbody tr th:only-of-type {\n",
       "        vertical-align: middle;\n",
       "    }\n",
       "\n",
       "    .dataframe tbody tr th {\n",
       "        vertical-align: top;\n",
       "    }\n",
       "\n",
       "    .dataframe thead th {\n",
       "        text-align: right;\n",
       "    }\n",
       "</style>\n",
       "<table border=\"1\" class=\"dataframe\">\n",
       "  <thead>\n",
       "    <tr style=\"text-align: right;\">\n",
       "      <th></th>\n",
       "      <th>invoiced_sales</th>\n",
       "      <th>volume_primary_units</th>\n",
       "      <th>inventory_cost</th>\n",
       "      <th>Year</th>\n",
       "      <th>Month</th>\n",
       "    </tr>\n",
       "  </thead>\n",
       "  <tbody>\n",
       "    <tr>\n",
       "      <th>count</th>\n",
       "      <td>5.199685e+06</td>\n",
       "      <td>87877.000000</td>\n",
       "      <td>5.199685e+06</td>\n",
       "      <td>5.199686e+06</td>\n",
       "      <td>5.199686e+06</td>\n",
       "    </tr>\n",
       "    <tr>\n",
       "      <th>mean</th>\n",
       "      <td>4.758037e+02</td>\n",
       "      <td>28.552860</td>\n",
       "      <td>1.327282e+02</td>\n",
       "      <td>2.010768e+03</td>\n",
       "      <td>5.371207e+00</td>\n",
       "    </tr>\n",
       "    <tr>\n",
       "      <th>std</th>\n",
       "      <td>3.261229e+03</td>\n",
       "      <td>107.120581</td>\n",
       "      <td>5.456651e+02</td>\n",
       "      <td>2.899380e+01</td>\n",
       "      <td>3.350758e+00</td>\n",
       "    </tr>\n",
       "    <tr>\n",
       "      <th>min</th>\n",
       "      <td>-1.577132e+06</td>\n",
       "      <td>-3564.000000</td>\n",
       "      <td>-4.804762e+04</td>\n",
       "      <td>1.900000e+03</td>\n",
       "      <td>1.000000e+00</td>\n",
       "    </tr>\n",
       "    <tr>\n",
       "      <th>25%</th>\n",
       "      <td>3.213000e+01</td>\n",
       "      <td>1.000000</td>\n",
       "      <td>1.064205e+01</td>\n",
       "      <td>2.018000e+03</td>\n",
       "      <td>3.000000e+00</td>\n",
       "    </tr>\n",
       "    <tr>\n",
       "      <th>50%</th>\n",
       "      <td>1.385200e+02</td>\n",
       "      <td>2.000000</td>\n",
       "      <td>4.133894e+01</td>\n",
       "      <td>2.018000e+03</td>\n",
       "      <td>5.000000e+00</td>\n",
       "    </tr>\n",
       "    <tr>\n",
       "      <th>75%</th>\n",
       "      <td>4.194600e+02</td>\n",
       "      <td>20.000000</td>\n",
       "      <td>1.188187e+02</td>\n",
       "      <td>2.019000e+03</td>\n",
       "      <td>8.000000e+00</td>\n",
       "    </tr>\n",
       "    <tr>\n",
       "      <th>max</th>\n",
       "      <td>3.593982e+06</td>\n",
       "      <td>12000.000000</td>\n",
       "      <td>3.291600e+05</td>\n",
       "      <td>2.019000e+03</td>\n",
       "      <td>1.200000e+01</td>\n",
       "    </tr>\n",
       "  </tbody>\n",
       "</table>\n",
       "</div>"
      ],
      "text/plain": [
       "       invoiced_sales  volume_primary_units  inventory_cost          Year  \\\n",
       "count    5.199685e+06          87877.000000    5.199685e+06  5.199686e+06   \n",
       "mean     4.758037e+02             28.552860    1.327282e+02  2.010768e+03   \n",
       "std      3.261229e+03            107.120581    5.456651e+02  2.899380e+01   \n",
       "min     -1.577132e+06          -3564.000000   -4.804762e+04  1.900000e+03   \n",
       "25%      3.213000e+01              1.000000    1.064205e+01  2.018000e+03   \n",
       "50%      1.385200e+02              2.000000    4.133894e+01  2.018000e+03   \n",
       "75%      4.194600e+02             20.000000    1.188187e+02  2.019000e+03   \n",
       "max      3.593982e+06          12000.000000    3.291600e+05  2.019000e+03   \n",
       "\n",
       "              Month  \n",
       "count  5.199686e+06  \n",
       "mean   5.371207e+00  \n",
       "std    3.350758e+00  \n",
       "min    1.000000e+00  \n",
       "25%    3.000000e+00  \n",
       "50%    5.000000e+00  \n",
       "75%    8.000000e+00  \n",
       "max    1.200000e+01  "
      ]
     },
     "execution_count": 6,
     "metadata": {},
     "output_type": "execute_result"
    }
   ],
   "source": [
    "df.describe()"
   ]
  },
  {
   "cell_type": "code",
   "execution_count": null,
   "metadata": {},
   "outputs": [],
   "source": [
    "from pandas_profiling import ProfileReport\n",
    "profile = ProfileReport(df, title=\"Stocks\")"
   ]
  },
  {
   "cell_type": "code",
   "execution_count": null,
   "metadata": {
    "scrolled": false
   },
   "outputs": [],
   "source": [
    "profile"
   ]
  },
  {
   "cell_type": "code",
   "execution_count": null,
   "metadata": {},
   "outputs": [],
   "source": []
  },
  {
   "cell_type": "code",
   "execution_count": null,
   "metadata": {},
   "outputs": [],
   "source": []
  }
 ],
 "metadata": {
  "kernelspec": {
   "display_name": "Python 3 (ipykernel)",
   "language": "python",
   "name": "python3"
  },
  "language_info": {
   "codemirror_mode": {
    "name": "ipython",
    "version": 3
   },
   "file_extension": ".py",
   "mimetype": "text/x-python",
   "name": "python",
   "nbconvert_exporter": "python",
   "pygments_lexer": "ipython3",
   "version": "3.9.7"
  },
  "varInspector": {
   "cols": {
    "lenName": 16,
    "lenType": 16,
    "lenVar": 40
   },
   "kernels_config": {
    "python": {
     "delete_cmd_postfix": "",
     "delete_cmd_prefix": "del ",
     "library": "var_list.py",
     "varRefreshCmd": "print(var_dic_list())"
    },
    "r": {
     "delete_cmd_postfix": ") ",
     "delete_cmd_prefix": "rm(",
     "library": "var_list.r",
     "varRefreshCmd": "cat(var_dic_list()) "
    }
   },
   "position": {
    "height": "144.716px",
    "left": "1328.09px",
    "right": "20px",
    "top": "77px",
    "width": "350px"
   },
   "types_to_exclude": [
    "module",
    "function",
    "builtin_function_or_method",
    "instance",
    "_Feature"
   ],
   "window_display": false
  }
 },
 "nbformat": 4,
 "nbformat_minor": 2
}
